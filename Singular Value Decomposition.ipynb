{
 "cells": [
  {
   "cell_type": "markdown",
   "metadata": {
    "id": "OlVvjPKvhsQh"
   },
   "source": [
    "## Singular Value Decomposition\n",
    "\n",
    "It is a widely used method for dimensionality reduction. It decomposes one complex transformation into 3 simpler transformations (rotation, scaling, and rotation). It is represented by the formula:\n",
    "\n",
    "\\begin{align}\n",
    "  A = UΣV^{T}\n",
    "\\end{align}\n",
    "\n",
    "where, \n",
    "- U and V* are orthogonal matrices.\n",
    "- D is a diagonal matrix of singular values.\n",
    "\n",
    "We will now write a function to return the SVD of a matrix"
   ]
  },
  {
   "cell_type": "code",
   "execution_count": null,
   "metadata": {
    "id": "1h01exezjLaV"
   },
   "outputs": [],
   "source": [
    "def matrix_svd(matrix):\n",
    "    '''\n",
    "        Input: matrix\n",
    "        Output: (U, sigma, V.T)\n",
    "    '''\n",
    "    U, s, Vt = np.linalg.svd(matrix)\n",
    "    return U, s, Vt"
   ]
  },
  {
   "cell_type": "markdown",
   "metadata": {
    "id": "YEGPpESKexL5"
   },
   "source": [
    "## Matrix Pseudo Inverse"
   ]
  },
  {
   "cell_type": "code",
   "execution_count": null,
   "metadata": {
    "id": "RYse0rLygG-j"
   },
   "outputs": [],
   "source": [
    "\n",
    "def matrix_pseudo_inverse(matrix):\n",
    "    U, s, Vt = np.linalg.svd(matrix)\n",
    "    # Invert the singular values, taking care to avoid division by zero\n",
    "    sigma_inv = np.diag([1/x if x != 0 else 0 for x in s])\n",
    "    # Compute the pseudo inverse: A^+ = V * sigma_inv * U^T\n",
    "    A_pinv = Vt.T @ sigma_inv @ U.T\n",
    "    return A_pinv"
   ]
  },
  {
   "cell_type": "markdown",
   "metadata": {
    "id": "uWXex4kSgdxk"
   },
   "source": [
    "We can use the following functions from different libraries for finding the inverse of a matrix as well (for testing purpose only)\n",
    "\n",
    "- numpy.linalg.pinv(a)\n",
    "- scipy.linalg.pinv(a)"
   ]
  },
  {
   "cell_type": "code",
   "execution_count": 6,
   "metadata": {},
   "outputs": [
    {
     "name": "stdout",
     "output_type": "stream",
     "text": [
      "Matrix Multiplication of A and B:\n",
      "[[ 4.  4.]\n",
      " [10.  8.]]\n",
      "\n",
      "Inverse of A:\n",
      "[[-2.   1. ]\n",
      " [ 1.5 -0.5]]\n",
      "\n",
      "SVD of A:\n",
      "U = [[-0.40455358 -0.9145143 ]\n",
      " [-0.9145143   0.40455358]]\n",
      "Singular values = [5.4649857  0.36596619]\n",
      "V.T = [[-0.57604844 -0.81741556]\n",
      " [ 0.81741556 -0.57604844]]\n",
      "\n",
      "Pseudo Inverse of A:\n",
      "[[-2.   1. ]\n",
      " [ 1.5 -0.5]]\n"
     ]
    }
   ],
   "source": [
    "A = np.array([[1, 2], [3, 4]])\n",
    "B = np.array([[2, 0], [1, 2]])\n",
    "\n",
    "# Test Matrix Multiplication\n",
    "print(\"Matrix Multiplication of A and B:\")\n",
    "print(matrix_multiplication(A, B))\n",
    "print()\n",
    "\n",
    "# Test Matrix Inverse\n",
    "print(\"Inverse of A:\")\n",
    "print(matrix_inverse(A))\n",
    "print()\n",
    "\n",
    "# Test SVD of A\n",
    "U, s, Vt = matrix_svd(A)\n",
    "print(\"SVD of A:\")\n",
    "print(\"U =\", U)\n",
    "print(\"Singular values =\", s)\n",
    "print(\"V.T =\", Vt)\n",
    "print()\n",
    "\n",
    "# Test Matrix Pseudo Inverse\n",
    "print(\"Pseudo Inverse of A:\")\n",
    "print(matrix_pseudo_inverse(A))"
   ]
  }
 ],
 "metadata": {
  "colab": {
   "provenance": []
  },
  "kernelspec": {
   "display_name": "math-ml",
   "language": "python",
   "name": "python3"
  },
  "language_info": {
   "codemirror_mode": {
    "name": "ipython",
    "version": 3
   },
   "file_extension": ".py",
   "mimetype": "text/x-python",
   "name": "python",
   "nbconvert_exporter": "python",
   "pygments_lexer": "ipython3",
   "version": "3.10.0"
  }
 },
 "nbformat": 4,
 "nbformat_minor": 4
}
